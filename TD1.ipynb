{
  "cells": [
    {
      "cell_type": "markdown",
      "metadata": {
        "id": "tdQfQNByozqH"
      },
      "source": [
        "<h3><span>Exercice 1</span></h3>\n",
        "<p>Écrivez un programme pour saisir deux nombres de l'utilisateur et calculer leur somme. L'utilisateur doit donc entrer deux valeurs, puis le programme calcule leur somme</p>\n",
        "<div class=\"style-msg2\"><div class=\"msgtitle\">Exemple :</div><div class=\"sb-msg\"><strong><em>Données d'entrée&nbsp;</em></strong><br><ul class=\"iconlist none\"><li>Saisir le premier nombre : 7</li><li>Saisir le deuxième nombre : 8</li></ul><br><strong><em>Données de sortie</em></strong><br><ul class=\"iconlist none\"><li>La somme = 15</li></ul></div></div>"
      ]
    },
    {
      "cell_type": "code",
      "execution_count": null,
      "metadata": {
        "id": "C5fiEhO3oPs-"
      },
      "outputs": [],
      "source": [
        "#Solution"
      ]
    },
    {
      "cell_type": "markdown",
      "metadata": {
        "id": "pYf6iWBfpOh_"
      },
      "source": [
        "<div class=\"fancy-title title-bottom-border\"><h3><span>Exercice 2</span></h3></div>\n",
        "<p>Écrivez un programme pour saisir la longueur et la largeur d'un rectangle et calculer son périmètre.</p>\n",
        "<br>\n",
        "<strong><p align=\"center\">perimetre = 2(longueur+largeur)&nbsp;</p></strong>\n",
        "<div class=\"msgtitle\">Exemple :</div><div class=\"sb-msg\"><strong><em>Données d'entrée&nbsp;</em></strong>\n",
        "<ul class=\"iconlist none\"><li>Saisir la longueur : 5</li>\n",
        "<li>Saisir la largeur : 10</li></ul>\n",
        "<strong><em>Données de sortie</em></strong>\n",
        "<br>\n",
        "<ul class=\"iconlist none\"><li>le périmètre = 30</li></ul></div>"
      ]
    },
    {
      "cell_type": "code",
      "execution_count": null,
      "metadata": {
        "id": "-WCBRkPApnQh"
      },
      "outputs": [],
      "source": [
        "#Solution"
      ]
    },
    {
      "cell_type": "markdown",
      "metadata": {
        "id": "HNy4pfK5r8oW"
      },
      "source": [
        "<h3><span>Exercice 3</span></h3>\n",
        "<p>Écrivez un programme pour saisir la longueur en centimètres et convertissez-le en mètres et en kilomètres.</p>\n",
        "<div class=\"style-msg2\"><div class=\"msgtitle\">Exemple :</div><div class=\"sb-msg\"><strong><em>Données d'entrée&nbsp;</em></strong><br><ul class=\"iconlist none\"><li>Saisir la longueur en centimètres : 1000</li></ul><br><strong><em>Données de sortie</em></strong><br><ul class=\"iconlist none\"><li>Longueur en mètres = 10 m</li><li>Longueur en Kilomètres = 0.01 km</li></ul></div></div>"
      ]
    },
    {
      "cell_type": "code",
      "execution_count": null,
      "metadata": {
        "id": "0_uGO7tzsjN_"
      },
      "outputs": [],
      "source": [
        "#Solution"
      ]
    }
  ],
  "metadata": {
    "colab": {
      "provenance": []
    },
    "kernelspec": {
      "display_name": "Python 3",
      "name": "python3"
    },
    "language_info": {
      "name": "python"
    }
  },
  "nbformat": 4,
  "nbformat_minor": 0
}
