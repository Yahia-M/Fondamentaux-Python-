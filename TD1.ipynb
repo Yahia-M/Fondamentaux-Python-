{
  "cells": [
    {
      "cell_type": "markdown",
      "metadata": {
        "id": "view-in-github",
        "colab_type": "text"
      },
      "source": [
        "<a href=\"https://colab.research.google.com/github/Yahia-M/Fondamentaux-Python-/blob/main/TD1.ipynb\" target=\"_parent\"><img src=\"https://colab.research.google.com/assets/colab-badge.svg\" alt=\"Open In Colab\"/></a>"
      ]
    },
    {
      "cell_type": "markdown",
      "metadata": {
        "id": "tdQfQNByozqH"
      },
      "source": [
        "<strong><h3><span>Exercice 1</span></h3></strong>\n",
        "<p>Écrivez un programme pour saisir deux nombres de l'utilisateur et calculer leur somme. L'utilisateur doit donc entrer deux valeurs, puis le programme calcule leur somme</p>\n",
        "<div class=\"style-msg2\"><div class=\"msgtitle\">Exemple :</div><div class=\"sb-msg\"><strong><em>Données d'entrée&nbsp;</em></strong><br><ul class=\"iconlist none\"><li>Saisir le premier nombre : 7</li><li>Saisir le deuxième nombre : 8</li></ul><br><strong><em>Données de sortie</em></strong><br><ul class=\"iconlist none\"><li>La somme = 15</li></ul></div></div>"
      ]
    },
    {
      "cell_type": "code",
      "execution_count": null,
      "metadata": {
        "id": "C5fiEhO3oPs-"
      },
      "outputs": [],
      "source": [
        "#Solution"
      ]
    },
    {
      "cell_type": "markdown",
      "source": [
        "Double-click __here__ for the solution.\n",
        "\n",
        "<!-- Your answer is below:\n",
        "\n",
        "nb1=int(input('Saisir le premier nombre :'))\n",
        "nb2=int(input('Saisir le deuxième nombre :'))\n",
        "somme = nb1 + nb2\n",
        "print(\"la somme = \", somme)\n",
        "\n",
        "\n",
        "-->"
      ],
      "metadata": {
        "id": "1vzQMsUZIb37"
      }
    },
    {
      "cell_type": "markdown",
      "metadata": {
        "id": "pYf6iWBfpOh_"
      },
      "source": [
        "<strong><div class=\"fancy-title title-bottom-border\"><h3><span>Exercice 2</span></h3></div></strong>\n",
        "<p>Écrivez un programme pour saisir la longueur et la largeur d'un rectangle et calculer son périmètre.</p>\n",
        "<br>\n",
        "<strong><p align=\"center\">perimetre = 2(longueur+largeur)&nbsp;</p></strong>\n",
        "<div class=\"msgtitle\">Exemple :</div><div class=\"sb-msg\"><strong><em>Données d'entrée&nbsp;</em></strong>\n",
        "<ul class=\"iconlist none\"><li>Saisir la longueur : 5</li>\n",
        "<li>Saisir la largeur : 10</li></ul>\n",
        "<strong><em>Données de sortie</em></strong>\n",
        "<br>\n",
        "<ul class=\"iconlist none\"><li>le périmètre = 30</li></ul></div>"
      ]
    },
    {
      "cell_type": "code",
      "execution_count": null,
      "metadata": {
        "id": "-WCBRkPApnQh"
      },
      "outputs": [],
      "source": [
        "#Solution"
      ]
    },
    {
      "cell_type": "markdown",
      "source": [],
      "metadata": {
        "id": "cnEzSpu3IiEv"
      }
    },
    {
      "cell_type": "markdown",
      "metadata": {
        "id": "HNy4pfK5r8oW"
      },
      "source": [
        "<h3><span>Exercice 3</span></h3>\n",
        "<p>Écrivez un programme pour saisir la longueur en centimètres et convertissez-le en mètres et en kilomètres.</p>\n",
        "<div class=\"style-msg2\"><div class=\"msgtitle\">Exemple :</div>\n",
        "<div class=\"sb-msg\"><strong>\n",
        "<em>Données d'entrée&nbsp;</em></strong>\n",
        "<ul class=\"iconlist none\"><li>Saisir la longueur en centimètres : 1000</li></ul>\n",
        "<strong><em>Données de sortie</em></strong>\n",
        "<ul class=\"iconlist none\"><li>Longueur en mètres = 10 m</li><li>Longueur en Kilomètres = 0.01 km</li></ul></div></div>"
      ]
    },
    {
      "cell_type": "code",
      "execution_count": null,
      "metadata": {
        "id": "0_uGO7tzsjN_"
      },
      "outputs": [],
      "source": [
        "#Solution"
      ]
    },
    {
      "cell_type": "markdown",
      "source": [
        "<div class=\"fancy-title title-bottom-border\"><h3><span>Exercice 2</span></h3></div>\n",
        "<p>Écrivez un programme pour saisir la longueur et la largeur d'un rectangle et calculer son périmètre.</p>"
      ],
      "metadata": {
        "id": "qlDMAi58HETo"
      }
    },
    {
      "cell_type": "code",
      "source": [],
      "metadata": {
        "id": "rTzJKoAWHExo"
      },
      "execution_count": null,
      "outputs": []
    },
    {
      "cell_type": "markdown",
      "source": [
        "Double-click __here__ for the solution.\n",
        "\n",
        "<!-- Your answer is below:\n",
        "\n",
        "base = float(input('saisir la base : '))\n",
        "hauteur = float(input('Saisir la hauteur : '))\n",
        "surface = (base * hauteur) / 2\n",
        "print(\"La surface est = \", surface)\n",
        "\n",
        "-->"
      ],
      "metadata": {
        "id": "ZmyNu0MeIKqQ"
      }
    },
    {
      "cell_type": "code",
      "source": [],
      "metadata": {
        "id": "rnweURkmH6YA"
      },
      "execution_count": null,
      "outputs": []
    }
  ],
  "metadata": {
    "colab": {
      "provenance": [],
      "include_colab_link": true
    },
    "kernelspec": {
      "display_name": "Python 3",
      "language": "python",
      "name": "python3"
    },
    "language_info": {
      "name": "python",
      "version": "3.11.0 (main, Oct 24 2022, 18:26:48) [MSC v.1933 64 bit (AMD64)]"
    },
    "vscode": {
      "interpreter": {
        "hash": "9fedf123aa532497912d939029aac71791b23fba076af1a3c1eebd0e739bf47a"
      }
    }
  },
  "nbformat": 4,
  "nbformat_minor": 0
}